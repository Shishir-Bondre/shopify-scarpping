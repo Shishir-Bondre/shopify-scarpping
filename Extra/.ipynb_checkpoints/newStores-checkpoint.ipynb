{
 "cells": [
  {
   "cell_type": "code",
   "execution_count": 79,
   "metadata": {},
   "outputs": [
    {
     "name": "stdout",
     "output_type": "stream",
     "text": [
      "https://beefriendlyskincare.com\n",
      "==============================\n",
      "https://grip6.com\n",
      "==============================\n",
      "https://techkeys.us\n",
      "==============================\n",
      "https://pingyshirt.com\n",
      "==============================\n",
      "https://groovebags.com\n",
      "==============================\n"
     ]
    }
   ],
   "source": [
    "import urllib\n",
    "from bs4 import BeautifulSoup\n",
    "import pandas as pd\n",
    "stores=pd.read_csv(\"../csv/storeDetails/orginalScrapped.csv\")\n",
    "storelink=stores['Link']\n",
    "storeName=stores['name']\n",
    "storeRanking=stores['Ranking']\n",
    "name=[]\n",
    "ranking=[]\n",
    "link=[]\n",
    "apps=[]\n",
    "AppNames=['loox','yotpo','recart','pushcrew','wistia','powr','optimonk','manychart','optimizely']\n",
    "for i in range(0,5):\n",
    "    slink=storelink[i]\n",
    "    appList=[]\n",
    "    r = urllib.urlopen(slink).read()\n",
    "    soup = BeautifulSoup(r,\"lxml\")\n",
    "    scriptTags=soup.find_all(\"script\",attrs={\"type\":\"text/javascript\"})\n",
    "    script=str(scriptTags)\n",
    "    print(slink)\n",
    "    for app in AppNames:\n",
    "        if (app in script):\n",
    "            appList.append(app)\n",
    "    name.append(storeName[i])\n",
    "    ranking.append(storeRanking[i])\n",
    "    link.append(slink)\n",
    "    apps.append(appList)\n",
    "    print\"==============================\"\n",
    "newStores=pd.DataFrame({\"name\":name,\"link\":link,\"ranking\":ranking,\"apps\":apps})    "
   ]
  },
  {
   "cell_type": "code",
   "execution_count": 80,
   "metadata": {},
   "outputs": [
    {
     "name": "stdout",
     "output_type": "stream",
     "text": [
      "                                apps                             link  \\\n",
      "0  [yotpo, pushcrew, powr, optimonk]  https://beefriendlyskincare.com   \n",
      "1                                 []                https://grip6.com   \n",
      "2                                 []              https://techkeys.us   \n",
      "3                                 []           https://pingyshirt.com   \n",
      "4                                 []           https://groovebags.com   \n",
      "\n",
      "                  name  ranking  \n",
      "0  beefriendlyskincare  335,901  \n",
      "1                grip6  336,219  \n",
      "2             techkeys  336,433  \n",
      "3           pingyshirt  336,545  \n",
      "4           groovebags  336,815  \n"
     ]
    }
   ],
   "source": [
    "print newStores"
   ]
  },
  {
   "cell_type": "code",
   "execution_count": null,
   "metadata": {
    "collapsed": true
   },
   "outputs": [],
   "source": []
  }
 ],
 "metadata": {
  "kernelspec": {
   "display_name": "Python 2",
   "language": "python",
   "name": "python2"
  },
  "language_info": {
   "codemirror_mode": {
    "name": "ipython",
    "version": 2
   },
   "file_extension": ".py",
   "mimetype": "text/x-python",
   "name": "python",
   "nbconvert_exporter": "python",
   "pygments_lexer": "ipython2",
   "version": "2.7.14"
  }
 },
 "nbformat": 4,
 "nbformat_minor": 2
}
