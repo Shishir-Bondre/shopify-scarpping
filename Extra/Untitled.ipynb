{
 "cells": [
  {
   "cell_type": "code",
   "execution_count": 2,
   "metadata": {},
   "outputs": [
    {
     "name": "stdout",
     "output_type": "stream",
     "text": [
      "enter no : 14\n",
      "Name : loox\n",
      "Name : yotpo\n",
      "Name : judge\n",
      "Name : product\n",
      "Name : jozi\n",
      "Name : feefo\n",
      "Name : globo\n",
      "Name : recart\n",
      "Name : kit\n",
      "Name : manycart\n",
      "Name : salespop\n",
      "Name : shopify\n",
      "Name : chatchamp\n",
      "Name : appsbysimple\n"
     ]
    }
   ],
   "source": [
    "appList=[]\n",
    "i=raw_input(\"enter no : \")\n",
    "i=int(i)\n",
    "for j in range(0,i):\n",
    "    name=raw_input(\"Name : \")\n",
    "    appList.append(name)"
   ]
  },
  {
   "cell_type": "code",
   "execution_count": 3,
   "metadata": {},
   "outputs": [
    {
     "data": {
      "text/plain": [
       "['loox',\n",
       " 'yotpo',\n",
       " 'judge',\n",
       " 'product',\n",
       " 'jozi',\n",
       " 'feefo',\n",
       " 'globo',\n",
       " 'recart',\n",
       " 'kit',\n",
       " 'manycart',\n",
       " 'salespop',\n",
       " 'shopify',\n",
       " 'chatchamp',\n",
       " 'appsbysimple']"
      ]
     },
     "execution_count": 3,
     "metadata": {},
     "output_type": "execute_result"
    }
   ],
   "source": [
    "appList"
   ]
  },
  {
   "cell_type": "code",
   "execution_count": null,
   "metadata": {
    "collapsed": true
   },
   "outputs": [],
   "source": [
    "import pandas as pd\n",
    "facebookStores.to_csv(\"csv/storeDetails.csv\",encoding='utf-8')"
   ]
  },
  {
   "cell_type": "code",
   "execution_count": null,
   "metadata": {
    "collapsed": true
   },
   "outputs": [],
   "source": []
  }
 ],
 "metadata": {
  "kernelspec": {
   "display_name": "Python 2",
   "language": "python",
   "name": "python2"
  },
  "language_info": {
   "codemirror_mode": {
    "name": "ipython",
    "version": 2
   },
   "file_extension": ".py",
   "mimetype": "text/x-python",
   "name": "python",
   "nbconvert_exporter": "python",
   "pygments_lexer": "ipython2",
   "version": "2.7.14"
  }
 },
 "nbformat": 4,
 "nbformat_minor": 2
}
